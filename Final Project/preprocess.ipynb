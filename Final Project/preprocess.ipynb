{
 "cells": [
  {
   "cell_type": "code",
   "execution_count": 32,
   "metadata": {},
   "outputs": [],
   "source": [
    "import pandas as pd\n",
    "import numpy as np\n",
    "from matplotlib import pyplot as plt\n",
    "import seaborn as sns\n",
    "df_origin = pd.read_csv(\"./Data/D_train.csv\")"
   ]
  },
  {
   "cell_type": "code",
   "execution_count": 33,
   "metadata": {
    "collapsed": true
   },
   "outputs": [
    {
     "name": "stdout",
     "output_type": "stream",
     "text": [
      "<class 'pandas.core.frame.DataFrame'>\n",
      "RangeIndex: 13500 entries, 0 to 13499\n",
      "Data columns (total 35 columns):\n",
      "Class    13500 non-null int64\n",
      "User     13500 non-null int64\n",
      "X0       13500 non-null float64\n",
      "Y0       13500 non-null float64\n",
      "Z0       13500 non-null float64\n",
      "X1       13500 non-null float64\n",
      "Y1       13500 non-null float64\n",
      "Z1       13500 non-null float64\n",
      "X2       13500 non-null float64\n",
      "Y2       13500 non-null float64\n",
      "Z2       13500 non-null float64\n",
      "X3       13464 non-null float64\n",
      "Y3       13464 non-null float64\n",
      "Z3       13464 non-null float64\n",
      "X4       13254 non-null float64\n",
      "Y4       13254 non-null float64\n",
      "Z4       13254 non-null float64\n",
      "X5       11363 non-null float64\n",
      "Y5       11363 non-null float64\n",
      "Z5       11363 non-null float64\n",
      "X6       9616 non-null float64\n",
      "Y6       9616 non-null float64\n",
      "Z6       9616 non-null float64\n",
      "X7       7191 non-null float64\n",
      "Y7       7191 non-null float64\n",
      "Z7       7191 non-null float64\n",
      "X8       5733 non-null float64\n",
      "Y8       5733 non-null float64\n",
      "Z8       5733 non-null float64\n",
      "X9       4537 non-null float64\n",
      "Y9       4537 non-null float64\n",
      "Z9       4537 non-null float64\n",
      "X10      2482 non-null float64\n",
      "Y10      2482 non-null float64\n",
      "Z10      2482 non-null float64\n",
      "dtypes: float64(33), int64(2)\n",
      "memory usage: 3.6 MB\n"
     ]
    }
   ],
   "source": [
    "df = df_origin.iloc[:,:-3] #Last 3 columns are almost nothing\n",
    "df = df.drop(['Unnamed: 0'], axis=1)\n",
    "df.info()"
   ]
  },
  {
   "cell_type": "code",
   "execution_count": 3,
   "metadata": {
    "collapsed": true
   },
   "outputs": [
    {
     "data": {
      "image/png": "[encoded data removed]",
      "text/plain": [
       "<Figure size 432x288 with 1 Axes>"
      ]
     },
     "metadata": {
      "needs_background": "light"
     },
     "output_type": "display_data"
    },
    {
     "data": {
      "image/png": "[encoded data removed]",
      "text/plain": [
       "<Figure size 432x288 with 1 Axes>"
      ]
     },
     "metadata": {
      "needs_background": "light"
     },
     "output_type": "display_data"
    }
   ],
   "source": [
    "df['Class'].value_counts().sort_values(ascending=False).plot(kind='bar')\n",
    "plt.show()\n",
    "df['User'].value_counts().sort_values(ascending=False).plot(kind='bar')\n",
    "plt.show()"
   ]
  },
  {
   "cell_type": "code",
   "execution_count": 15,
   "metadata": {
    "collapsed": true
   },
   "outputs": [
    {
     "name": "stdout",
     "output_type": "stream",
     "text": [
      "<class 'pandas.core.frame.DataFrame'>\n",
      "Int64Index: 2482 entries, 10 to 13488\n",
      "Data columns (total 35 columns):\n",
      "Class    2482 non-null int64\n",
      "User     2482 non-null int64\n",
      "X0       2482 non-null float64\n",
      "Y0       2482 non-null float64\n",
      "Z0       2482 non-null float64\n",
      "X1       2482 non-null float64\n",
      "Y1       2482 non-null float64\n",
      "Z1       2482 non-null float64\n",
      "X2       2482 non-null float64\n",
      "Y2       2482 non-null float64\n",
      "Z2       2482 non-null float64\n",
      "X3       2482 non-null float64\n",
      "Y3       2482 non-null float64\n",
      "Z3       2482 non-null float64\n",
      "X4       2482 non-null float64\n",
      "Y4       2482 non-null float64\n",
      "Z4       2482 non-null float64\n",
      "X5       2482 non-null float64\n",
      "Y5       2482 non-null float64\n",
      "Z5       2482 non-null float64\n",
      "X6       2482 non-null float64\n",
      "Y6       2482 non-null float64\n",
      "Z6       2482 non-null float64\n",
      "X7       2482 non-null float64\n",
      "Y7       2482 non-null float64\n",
      "Z7       2482 non-null float64\n",
      "X8       2482 non-null float64\n",
      "Y8       2482 non-null float64\n",
      "Z8       2482 non-null float64\n",
      "X9       2482 non-null float64\n",
      "Y9       2482 non-null float64\n",
      "Z9       2482 non-null float64\n",
      "X10      2482 non-null float64\n",
      "Y10      2482 non-null float64\n",
      "Z10      2482 non-null float64\n",
      "dtypes: float64(33), int64(2)\n",
      "memory usage: 698.1 KB\n"
     ]
    }
   ],
   "source": [
    "df_dropna = df.copy()\n",
    "df_dropna.dropna(axis=0, inplace=True)\n",
    "df_dropna.info()"
   ]
  },
  {
   "cell_type": "code",
   "execution_count": null,
   "metadata": {},
   "outputs": [],
   "source": [
    "class_df = df2['Class']\n",
    "user_df = df2['User']\n",
    "fig, ax = plt.subplots(figsize=(5,8))\n",
    "ax.scatter(class_df, user_df)\n",
    "plt.show()\n",
    "#Seems each individual user has posed all gestures"
   ]
  },
  {
   "cell_type": "code",
   "execution_count": 34,
   "metadata": {},
   "outputs": [],
   "source": [
    "a1 = df.iloc[:,np.arange(2,35,3)].apply(np.mean,axis=1)\n",
    "a2 = df.iloc[:,np.arange(3,36,3)].apply(np.mean,axis=1)\n",
    "a3 = df.iloc[:,np.arange(4,37,3)].apply(np.mean,axis=1)\n",
    "res = pd.DataFrame({'X_mean':a1,'Y_mean':a2,'Z_mean':a3})\n",
    "res.insert(0,'Class',df['Class'])\n",
    "res.insert(1,'User',df['User'])"
   ]
  },
  {
   "cell_type": "code",
   "execution_count": 35,
   "metadata": {},
   "outputs": [],
   "source": [
    "res.insert(5,'X_std',df.iloc[:,np.arange(2,35,3)].apply(np.std,axis=1))\n",
    "res.insert(6,'Y_std',df.iloc[:,np.arange(3,36,3)].apply(np.std,axis=1))\n",
    "res.insert(7,'Z_std',df.iloc[:,np.arange(4,37,3)].apply(np.std,axis=1))"
   ]
  },
  {
   "cell_type": "code",
   "execution_count": 36,
   "metadata": {},
   "outputs": [],
   "source": [
    "res.insert(8,'X_min',df.iloc[:,np.arange(2,35,3)].apply(np.min,axis=1))\n",
    "res.insert(9,'Y_min',df.iloc[:,np.arange(3,36,3)].apply(np.min,axis=1))\n",
    "res.insert(10,'Z_min',df.iloc[:,np.arange(4,37,3)].apply(np.min,axis=1))\n",
    "res.insert(11,'X_max',df.iloc[:,np.arange(2,35,3)].apply(np.max,axis=1))\n",
    "res.insert(12,'Y_max',df.iloc[:,np.arange(3,36,3)].apply(np.max,axis=1))\n",
    "res.insert(13,'Z_max',df.iloc[:,np.arange(4,37,3)].apply(np.max,axis=1))"
   ]
  },
  {
   "cell_type": "code",
   "execution_count": 9,
   "metadata": {
    "collapsed": true
   },
   "outputs": [
    {
     "data": {
      "image/png": "[encoded data removed]",
      "text/plain": [
       "<Figure size 432x288 with 2 Axes>"
      ]
     },
     "metadata": {
      "needs_background": "light"
     },
     "output_type": "display_data"
    },
    {
     "data": {
      "image/png": "[encoded data removed]",
      "text/plain": [
       "<Figure size 432x288 with 2 Axes>"
      ]
     },
     "metadata": {
      "needs_background": "light"
     },
     "output_type": "display_data"
    },
    {
     "data": {
      "image/png": "[encoded data removed]",
      "text/plain": [
       "<Figure size 432x288 with 2 Axes>"
      ]
     },
     "metadata": {
      "needs_background": "light"
     },
     "output_type": "display_data"
    },
    {
     "data": {
      "image/png": "[encoded data removed]",
      "text/plain": [
       "<Figure size 432x288 with 2 Axes>"
      ]
     },
     "metadata": {
      "needs_background": "light"
     },
     "output_type": "display_data"
    },
    {
     "data": {
      "image/png": "[encoded data removed]",
      "text/plain": [
       "<Figure size 432x288 with 2 Axes>"
      ]
     },
     "metadata": {
      "needs_background": "light"
     },
     "output_type": "display_data"
    }
   ],
   "source": [
    "for i in res['Class'].unique():\n",
    "    sns.heatmap(res.loc[res['Class']==i].iloc[:,2:5].corr())\n",
    "    plt.title(\"Class {}'s corr matrix'\".format(i))\n",
    "    plt.show()\n",
    "# res.loc[res['User']==2].corr()['Y_max']\n",
    "# res['Class'].unique()"
   ]
  },
  {
   "cell_type": "code",
   "execution_count": 19,
   "metadata": {
    "collapsed": true
   },
   "outputs": [
    {
     "data": {
      "image/png": "[encoded data removed]",
      "text/plain": [
       "<Figure size 576x576 with 12 Axes>"
      ]
     },
     "metadata": {
      "needs_background": "light"
     },
     "output_type": "display_data"
    },
    {
     "data": {
      "text/html": [
       "<div>\n",
       "<style scoped>\n",
       "    .dataframe tbody tr th:only-of-type {\n",
       "        vertical-align: middle;\n",
       "    }\n",
       "\n",
       "    .dataframe tbody tr th {\n",
       "        vertical-align: top;\n",
       "    }\n",
       "\n",
       "    .dataframe thead th {\n",
       "        text-align: right;\n",
       "    }\n",
       "</style>\n",
       "<table border=\"1\" class=\"dataframe\">\n",
       "  <thead>\n",
       "    <tr style=\"text-align: right;\">\n",
       "      <th></th>\n",
       "      <th>X_mean</th>\n",
       "      <th>Y_mean</th>\n",
       "      <th>Z_mean</th>\n",
       "      <th>X_std</th>\n",
       "      <th>Y_std</th>\n",
       "      <th>Z_std</th>\n",
       "      <th>X_min</th>\n",
       "      <th>Y_min</th>\n",
       "      <th>Z_min</th>\n",
       "      <th>X_max</th>\n",
       "      <th>Y_max</th>\n",
       "      <th>Z_max</th>\n",
       "    </tr>\n",
       "  </thead>\n",
       "  <tbody>\n",
       "    <tr>\n",
       "      <td>count</td>\n",
       "      <td>13500.000000</td>\n",
       "      <td>13500.000000</td>\n",
       "      <td>13500.000000</td>\n",
       "      <td>13500.000000</td>\n",
       "      <td>13500.000000</td>\n",
       "      <td>13500.000000</td>\n",
       "      <td>13500.000000</td>\n",
       "      <td>13500.000000</td>\n",
       "      <td>13500.000000</td>\n",
       "      <td>13500.000000</td>\n",
       "      <td>13500.000000</td>\n",
       "      <td>13500.000000</td>\n",
       "    </tr>\n",
       "    <tr>\n",
       "      <td>mean</td>\n",
       "      <td>51.251302</td>\n",
       "      <td>80.373621</td>\n",
       "      <td>-34.503680</td>\n",
       "      <td>30.255553</td>\n",
       "      <td>36.974195</td>\n",
       "      <td>24.385289</td>\n",
       "      <td>1.818376</td>\n",
       "      <td>18.048175</td>\n",
       "      <td>-69.979004</td>\n",
       "      <td>93.476938</td>\n",
       "      <td>130.757534</td>\n",
       "      <td>-2.775697</td>\n",
       "    </tr>\n",
       "    <tr>\n",
       "      <td>std</td>\n",
       "      <td>14.693086</td>\n",
       "      <td>17.246827</td>\n",
       "      <td>20.997457</td>\n",
       "      <td>8.007331</td>\n",
       "      <td>11.190146</td>\n",
       "      <td>11.497603</td>\n",
       "      <td>22.985188</td>\n",
       "      <td>20.406169</td>\n",
       "      <td>17.959632</td>\n",
       "      <td>20.850893</td>\n",
       "      <td>26.737334</td>\n",
       "      <td>30.435922</td>\n",
       "    </tr>\n",
       "    <tr>\n",
       "      <td>min</td>\n",
       "      <td>-61.898213</td>\n",
       "      <td>-50.301817</td>\n",
       "      <td>-92.767794</td>\n",
       "      <td>1.877569</td>\n",
       "      <td>2.545291</td>\n",
       "      <td>2.080092</td>\n",
       "      <td>-121.182089</td>\n",
       "      <td>-98.233756</td>\n",
       "      <td>-151.592200</td>\n",
       "      <td>-27.857612</td>\n",
       "      <td>-39.663200</td>\n",
       "      <td>-72.571532</td>\n",
       "    </tr>\n",
       "    <tr>\n",
       "      <td>25%</td>\n",
       "      <td>39.890656</td>\n",
       "      <td>67.838747</td>\n",
       "      <td>-49.998885</td>\n",
       "      <td>25.430178</td>\n",
       "      <td>30.795146</td>\n",
       "      <td>16.001879</td>\n",
       "      <td>-13.215606</td>\n",
       "      <td>3.874427</td>\n",
       "      <td>-83.301733</td>\n",
       "      <td>78.941544</td>\n",
       "      <td>127.423988</td>\n",
       "      <td>-25.165756</td>\n",
       "    </tr>\n",
       "    <tr>\n",
       "      <td>50%</td>\n",
       "      <td>52.488576</td>\n",
       "      <td>81.495304</td>\n",
       "      <td>-36.156457</td>\n",
       "      <td>31.336960</td>\n",
       "      <td>38.893965</td>\n",
       "      <td>23.595284</td>\n",
       "      <td>-3.355784</td>\n",
       "      <td>13.191128</td>\n",
       "      <td>-68.827678</td>\n",
       "      <td>92.440150</td>\n",
       "      <td>139.227723</td>\n",
       "      <td>-2.521009</td>\n",
       "    </tr>\n",
       "    <tr>\n",
       "      <td>75%</td>\n",
       "      <td>62.079082</td>\n",
       "      <td>94.251337</td>\n",
       "      <td>-18.156529</td>\n",
       "      <td>34.134948</td>\n",
       "      <td>44.182668</td>\n",
       "      <td>32.168509</td>\n",
       "      <td>13.176117</td>\n",
       "      <td>26.791033</td>\n",
       "      <td>-60.953941</td>\n",
       "      <td>108.646575</td>\n",
       "      <td>149.616753</td>\n",
       "      <td>16.989548</td>\n",
       "    </tr>\n",
       "    <tr>\n",
       "      <td>max</td>\n",
       "      <td>102.433624</td>\n",
       "      <td>136.535435</td>\n",
       "      <td>70.051134</td>\n",
       "      <td>69.833732</td>\n",
       "      <td>65.277341</td>\n",
       "      <td>58.156458</td>\n",
       "      <td>68.288056</td>\n",
       "      <td>95.296677</td>\n",
       "      <td>40.474604</td>\n",
       "      <td>174.054403</td>\n",
       "      <td>170.209350</td>\n",
       "      <td>122.569627</td>\n",
       "    </tr>\n",
       "  </tbody>\n",
       "</table>\n",
       "</div>"
      ],
      "text/plain": [
       "             X_mean        Y_mean        Z_mean         X_std         Y_std  \\\n",
       "count  13500.000000  13500.000000  13500.000000  13500.000000  13500.000000   \n",
       "mean      51.251302     80.373621    -34.503680     30.255553     36.974195   \n",
       "std       14.693086     17.246827     20.997457      8.007331     11.190146   \n",
       "min      -61.898213    -50.301817    -92.767794      1.877569      2.545291   \n",
       "25%       39.890656     67.838747    -49.998885     25.430178     30.795146   \n",
       "50%       52.488576     81.495304    -36.156457     31.336960     38.893965   \n",
       "75%       62.079082     94.251337    -18.156529     34.134948     44.182668   \n",
       "max      102.433624    136.535435     70.051134     69.833732     65.277341   \n",
       "\n",
       "              Z_std         X_min         Y_min         Z_min         X_max  \\\n",
       "count  13500.000000  13500.000000  13500.000000  13500.000000  13500.000000   \n",
       "mean      24.385289      1.818376     18.048175    -69.979004     93.476938   \n",
       "std       11.497603     22.985188     20.406169     17.959632     20.850893   \n",
       "min        2.080092   -121.182089    -98.233756   -151.592200    -27.857612   \n",
       "25%       16.001879    -13.215606      3.874427    -83.301733     78.941544   \n",
       "50%       23.595284     -3.355784     13.191128    -68.827678     92.440150   \n",
       "75%       32.168509     13.176117     26.791033    -60.953941    108.646575   \n",
       "max       58.156458     68.288056     95.296677     40.474604    174.054403   \n",
       "\n",
       "              Y_max         Z_max  \n",
       "count  13500.000000  13500.000000  \n",
       "mean     130.757534     -2.775697  \n",
       "std       26.737334     30.435922  \n",
       "min      -39.663200    -72.571532  \n",
       "25%      127.423988    -25.165756  \n",
       "50%      139.227723     -2.521009  \n",
       "75%      149.616753     16.989548  \n",
       "max      170.209350    122.569627  "
      ]
     },
     "execution_count": 19,
     "metadata": {},
     "output_type": "execute_result"
    }
   ],
   "source": [
    "res.iloc[:,2:].hist(figsize=(8,8), sharex=True)\n",
    "plt.show()\n",
    "res.iloc[:,2:].describe()"
   ]
  },
  {
   "cell_type": "code",
   "execution_count": 28,
   "metadata": {
    "collapsed": true
   },
   "outputs": [
    {
     "data": {
      "text/plain": [
       "array([[ 0.04607372, -0.2885593 , -0.42083952, -0.09310158, -0.08433164,\n",
       "        -0.17593181,  0.22912897, -0.09011618, -0.09230294, -0.14154584,\n",
       "        -0.44902896, -0.63243184],\n",
       "       [-0.3732932 ,  0.18386086,  0.1014863 , -0.00141894, -0.26437973,\n",
       "        -0.11007863, -0.40103765,  0.48427719,  0.21384212, -0.46951579,\n",
       "        -0.26171523, -0.06714128],\n",
       "       [-0.03770625, -0.27379261,  0.00716138,  0.15964192, -0.09205383,\n",
       "         0.1963527 , -0.43837324, -0.31266975, -0.2992969 ,  0.11253222,\n",
       "        -0.57242872,  0.36221607],\n",
       "       [ 0.20419906, -0.22755587,  0.37095038, -0.09447021, -0.11928199,\n",
       "        -0.07202502,  0.43809802,  0.09588034,  0.53731383,  0.07652462,\n",
       "        -0.41663416,  0.26703439],\n",
       "       [-0.02296588, -0.08794292,  0.03267573,  0.27768538,  0.0574727 ,\n",
       "        -0.32354675, -0.44647568, -0.16762858,  0.50152301,  0.47546338,\n",
       "         0.07027198, -0.30920438],\n",
       "       [-0.24635388, -0.2548152 ,  0.17715963, -0.16136427,  0.2850778 ,\n",
       "        -0.02614263, -0.05115749, -0.57967158,  0.24308078, -0.55659076,\n",
       "         0.16553609,  0.00907015]])"
      ]
     },
     "execution_count": 28,
     "metadata": {},
     "output_type": "execute_result"
    }
   ],
   "source": [
    "# PCA, check the scree plot and variance sum\n",
    "from sklearn.decomposition import PCA\n",
    "pca = PCA()\n",
    "pca.fit(res.iloc[:,2:])\n",
    "pca.explained_variance_ratio_[:6].sum()\n",
    "pca.components_"
   ]
  },
  {
   "cell_type": "code",
   "execution_count": 31,
   "metadata": {
    "collapsed": true
   },
   "outputs": [
    {
     "data": {
      "text/html": [
       "<div>\n",
       "<style scoped>\n",
       "    .dataframe tbody tr th:only-of-type {\n",
       "        vertical-align: middle;\n",
       "    }\n",
       "\n",
       "    .dataframe tbody tr th {\n",
       "        vertical-align: top;\n",
       "    }\n",
       "\n",
       "    .dataframe thead th {\n",
       "        text-align: right;\n",
       "    }\n",
       "</style>\n",
       "<table border=\"1\" class=\"dataframe\">\n",
       "  <thead>\n",
       "    <tr style=\"text-align: right;\">\n",
       "      <th></th>\n",
       "      <th>1</th>\n",
       "      <th>2</th>\n",
       "      <th>3</th>\n",
       "      <th>4</th>\n",
       "      <th>5</th>\n",
       "      <th>6</th>\n",
       "    </tr>\n",
       "  </thead>\n",
       "  <tbody>\n",
       "    <tr>\n",
       "      <td>0</td>\n",
       "      <td>80.803375</td>\n",
       "      <td>-8.018573</td>\n",
       "      <td>-2.799130</td>\n",
       "      <td>15.283954</td>\n",
       "      <td>-6.063840</td>\n",
       "      <td>-9.424119</td>\n",
       "    </tr>\n",
       "    <tr>\n",
       "      <td>1</td>\n",
       "      <td>35.769591</td>\n",
       "      <td>43.417085</td>\n",
       "      <td>-16.898710</td>\n",
       "      <td>-53.994718</td>\n",
       "      <td>-17.781492</td>\n",
       "      <td>12.900612</td>\n",
       "    </tr>\n",
       "    <tr>\n",
       "      <td>2</td>\n",
       "      <td>-11.232235</td>\n",
       "      <td>17.657224</td>\n",
       "      <td>12.917469</td>\n",
       "      <td>-27.621777</td>\n",
       "      <td>-22.098324</td>\n",
       "      <td>-6.717234</td>\n",
       "    </tr>\n",
       "    <tr>\n",
       "      <td>3</td>\n",
       "      <td>46.217752</td>\n",
       "      <td>-19.727657</td>\n",
       "      <td>-38.361676</td>\n",
       "      <td>4.686685</td>\n",
       "      <td>-21.667123</td>\n",
       "      <td>6.967712</td>\n",
       "    </tr>\n",
       "    <tr>\n",
       "      <td>4</td>\n",
       "      <td>19.502917</td>\n",
       "      <td>52.557799</td>\n",
       "      <td>-37.965385</td>\n",
       "      <td>-26.644931</td>\n",
       "      <td>-15.192068</td>\n",
       "      <td>-0.067863</td>\n",
       "    </tr>\n",
       "    <tr>\n",
       "      <td>...</td>\n",
       "      <td>...</td>\n",
       "      <td>...</td>\n",
       "      <td>...</td>\n",
       "      <td>...</td>\n",
       "      <td>...</td>\n",
       "      <td>...</td>\n",
       "    </tr>\n",
       "    <tr>\n",
       "      <td>13495</td>\n",
       "      <td>-23.931707</td>\n",
       "      <td>-29.702768</td>\n",
       "      <td>-8.874625</td>\n",
       "      <td>14.506381</td>\n",
       "      <td>2.848446</td>\n",
       "      <td>-0.931392</td>\n",
       "    </tr>\n",
       "    <tr>\n",
       "      <td>13496</td>\n",
       "      <td>-31.667945</td>\n",
       "      <td>14.946287</td>\n",
       "      <td>3.082346</td>\n",
       "      <td>-25.803905</td>\n",
       "      <td>20.791752</td>\n",
       "      <td>11.743399</td>\n",
       "    </tr>\n",
       "    <tr>\n",
       "      <td>13497</td>\n",
       "      <td>-25.280466</td>\n",
       "      <td>-27.732109</td>\n",
       "      <td>-8.849702</td>\n",
       "      <td>13.808928</td>\n",
       "      <td>4.380055</td>\n",
       "      <td>-1.154310</td>\n",
       "    </tr>\n",
       "    <tr>\n",
       "      <td>13498</td>\n",
       "      <td>35.269095</td>\n",
       "      <td>22.514251</td>\n",
       "      <td>1.714447</td>\n",
       "      <td>13.965473</td>\n",
       "      <td>1.124355</td>\n",
       "      <td>5.730900</td>\n",
       "    </tr>\n",
       "    <tr>\n",
       "      <td>13499</td>\n",
       "      <td>-29.587966</td>\n",
       "      <td>15.336921</td>\n",
       "      <td>3.964353</td>\n",
       "      <td>-27.678284</td>\n",
       "      <td>18.702878</td>\n",
       "      <td>9.618075</td>\n",
       "    </tr>\n",
       "  </tbody>\n",
       "</table>\n",
       "<p>13500 rows × 6 columns</p>\n",
       "</div>"
      ],
      "text/plain": [
       "               1          2          3          4          5          6\n",
       "0      80.803375  -8.018573  -2.799130  15.283954  -6.063840  -9.424119\n",
       "1      35.769591  43.417085 -16.898710 -53.994718 -17.781492  12.900612\n",
       "2     -11.232235  17.657224  12.917469 -27.621777 -22.098324  -6.717234\n",
       "3      46.217752 -19.727657 -38.361676   4.686685 -21.667123   6.967712\n",
       "4      19.502917  52.557799 -37.965385 -26.644931 -15.192068  -0.067863\n",
       "...          ...        ...        ...        ...        ...        ...\n",
       "13495 -23.931707 -29.702768  -8.874625  14.506381   2.848446  -0.931392\n",
       "13496 -31.667945  14.946287   3.082346 -25.803905  20.791752  11.743399\n",
       "13497 -25.280466 -27.732109  -8.849702  13.808928   4.380055  -1.154310\n",
       "13498  35.269095  22.514251   1.714447  13.965473   1.124355   5.730900\n",
       "13499 -29.587966  15.336921   3.964353 -27.678284  18.702878   9.618075\n",
       "\n",
       "[13500 rows x 6 columns]"
      ]
     },
     "execution_count": 31,
     "metadata": {},
     "output_type": "execute_result"
    }
   ],
   "source": [
    "# We pick the first 6 eigenvectors\n",
    "pca = PCA(n_components=6)\n",
    "res_pca = pca.fit_transform(res.iloc[:,2:])\n",
    "after_pca = pd.DataFrame(data=res_pca, columns = ['1','2','3','4','5','6'])\n",
    "after_pca"
   ]
  },
  {
   "cell_type": "code",
   "execution_count": 20,
   "metadata": {
    "scrolled": true
   },
   "outputs": [
    {
     "name": "stdout",
     "output_type": "stream",
     "text": [
      "learning from 13500 rows\n"
     ]
    },
    {
     "name": "stderr",
     "output_type": "stream",
     "text": [
      "C:\\Users\\Yan\\Anaconda3\\lib\\site-packages\\sklearn\\model_selection\\_split.py:1978: FutureWarning: The default value of cv will change from 3 to 5 in version 0.22. Specify it explicitly to silence this warning.\n",
      "  warnings.warn(CV_WARNING, FutureWarning)\n"
     ]
    },
    {
     "name": "stdout",
     "output_type": "stream",
     "text": [
      "0.7547407407407407 {'n_neighbors': 4}\n"
     ]
    }
   ],
   "source": [
    "from sklearn.neighbors import KNeighborsClassifier\n",
    "from sklearn.model_selection import GridSearchCV\n",
    "X_dropped = res.drop('Class', axis=1)\n",
    "print(\"learning from {} rows\".format(X_dropped.shape[0]))\n",
    "y_dropped = res['Class']\n",
    "knn_params = {'n_neighbors':[1, 2, 3, 4, 5, 6, 7]}\n",
    "knn = KNeighborsClassifier()\n",
    "grid = GridSearchCV(knn, knn_params)\n",
    "grid.fit(X_dropped, y_dropped)\n",
    "print(grid.best_score_, grid.best_params_)"
   ]
  },
  {
   "cell_type": "code",
   "execution_count": 46,
   "metadata": {},
   "outputs": [],
   "source": [
    "def get_best_model_and_accuracy(model, params, X, y):\n",
    "    grid = GridSearchCV(model,params,error_score=0.)\n",
    "    grid.fit(X, y)\n",
    "    print(\"Best Accuracy: {}\".format(grid.best_score_))\n",
    "    print(\"Best Parameters: {}\".format(grid.best_params_))\n",
    "    print(\"Average Time to Fit (s):{}\".format(round(grid.cv_results_['mean_fit_time'].mean(), 3)))\n",
    "    print(\"Average Time to Score (s):{}\".format(round(grid.cv_results_['mean_score_time'].mean(), 3)))"
   ]
  },
  {
   "cell_type": "code",
   "execution_count": 47,
   "metadata": {},
   "outputs": [],
   "source": [
    "from sklearn.model_selection import GridSearchCV\n",
    "from sklearn.svm import SVC\n",
    "from sklearn.pipeline import Pipeline\n",
    "from sklearn.preprocessing import StandardScaler\n",
    "\n",
    "params = {\n",
    "    'preprocessing__pca__n_components':[6],\n",
    "    'svm__C':[0.1,0.5,1,10,50,100,500,1000],\n",
    "    'svm__gamma':[0.001,0.005,0.01,0.05,0.1,0.5,1,5,10,50]}\n",
    "\n",
    "preprocessing = Pipeline([('scale', StandardScaler()),\n",
    "                          ('pca', PCA())])\n",
    "motion_pipeline = Pipeline(steps=[('preprocessing', preprocessing),\n",
    "                                  ('svm', SVC(kernel='rbf'))])\n"
   ]
  },
  {
   "cell_type": "code",
   "execution_count": 48,
   "metadata": {},
   "outputs": [
    {
     "name": "stderr",
     "output_type": "stream",
     "text": [
      "C:\\Users\\Yan\\Anaconda3\\lib\\site-packages\\sklearn\\model_selection\\_split.py:1978: FutureWarning: The default value of cv will change from 3 to 5 in version 0.22. Specify it explicitly to silence this warning.\n",
      "  warnings.warn(CV_WARNING, FutureWarning)\n"
     ]
    },
    {
     "name": "stdout",
     "output_type": "stream",
     "text": [
      "Best Accuracy: 0.36666666666666664\n",
      "Best Parameters: {'preprocessing__pca__n_components': 6, 'svm__C': 1000, 'svm__gamma': 50}\n",
      "Average Time to Fit (s):3.522\n",
      "Average Time to Score (s):1.013\n"
     ]
    }
   ],
   "source": [
    "X_dropped = res.drop('Class', axis=1)\n",
    "y_dropped = res['Class']\n",
    "get_best_model_and_accuracy(motion_pipeline, params, X_dropped, y_dropped)"
   ]
  }
 ],
 "metadata": {
  "kernelspec": {
   "display_name": "Python 3",
   "language": "python",
   "name": "python3"
  },
  "language_info": {
   "codemirror_mode": {
    "name": "ipython",
    "version": 3
   },
   "file_extension": ".py",
   "mimetype": "text/x-python",
   "name": "python",
   "nbconvert_exporter": "python",
   "pygments_lexer": "ipython3",
   "version": "3.7.4"
  }
 },
 "nbformat": 4,
 "nbformat_minor": 2
}
